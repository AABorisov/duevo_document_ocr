{
 "cells": [
  {
   "cell_type": "code",
   "execution_count": 19,
   "metadata": {},
   "outputs": [],
   "source": [
    "import numpy as np"
   ]
  },
  {
   "cell_type": "code",
   "execution_count": 6,
   "metadata": {},
   "outputs": [],
   "source": [
    "import io\n",
    "from PIL import Image"
   ]
  },
  {
   "cell_type": "code",
   "execution_count": 22,
   "metadata": {},
   "outputs": [],
   "source": [
    "image = Image.open(io.BytesIO(content))\n"
   ]
  },
  {
   "cell_type": "code",
   "execution_count": null,
   "metadata": {},
   "outputs": [],
   "source": [
    "image"
   ]
  },
  {
   "cell_type": "code",
   "execution_count": null,
   "metadata": {},
   "outputs": [],
   "source": [
    "content"
   ]
  },
  {
   "cell_type": "code",
   "execution_count": 7,
   "metadata": {},
   "outputs": [],
   "source": [
    "a = Image.open('./ocr/1.jpg')"
   ]
  },
  {
   "cell_type": "code",
   "execution_count": null,
   "metadata": {},
   "outputs": [],
   "source": [
    "a.tobytes()"
   ]
  },
  {
   "cell_type": "code",
   "execution_count": 127,
   "metadata": {},
   "outputs": [
    {
     "name": "stdout",
     "output_type": "stream",
     "text": [
      "Texts:\n"
     ]
    }
   ],
   "source": [
    "txt = detect_text('./ocr/hel.jpg')"
   ]
  },
  {
   "cell_type": "code",
   "execution_count": null,
   "metadata": {},
   "outputs": [],
   "source": [
    "data"
   ]
  },
  {
   "cell_type": "code",
   "execution_count": null,
   "metadata": {},
   "outputs": [],
   "source": [
    "print(txt[0].description)"
   ]
  },
  {
   "cell_type": "code",
   "execution_count": 128,
   "metadata": {},
   "outputs": [],
   "source": [
    "data = pd.DataFrame([{\n",
    "    'text':t.description, \n",
    "    'y':t.bounding_poly.vertices[0].y, \n",
    "    'x':t.bounding_poly.vertices[0].x} \n",
    "    for t in txt[1:]])\n",
    "data = data.sort_values(['y', 'x']).reset_index(drop=1)"
   ]
  },
  {
   "cell_type": "code",
   "execution_count": 56,
   "metadata": {},
   "outputs": [
    {
     "data": {
      "text/plain": [
       "343"
      ]
     },
     "execution_count": 56,
     "metadata": {},
     "output_type": "execute_result"
    }
   ],
   "source": [
    "start = int(data[data['text'].str.contains('Исследован')].y)"
   ]
  },
  {
   "cell_type": "code",
   "execution_count": 60,
   "metadata": {},
   "outputs": [
    {
     "data": {
      "text/html": [
       "<div>\n",
       "<style scoped>\n",
       "    .dataframe tbody tr th:only-of-type {\n",
       "        vertical-align: middle;\n",
       "    }\n",
       "\n",
       "    .dataframe tbody tr th {\n",
       "        vertical-align: top;\n",
       "    }\n",
       "\n",
       "    .dataframe thead th {\n",
       "        text-align: right;\n",
       "    }\n",
       "</style>\n",
       "<table border=\"1\" class=\"dataframe\">\n",
       "  <thead>\n",
       "    <tr style=\"text-align: right;\">\n",
       "      <th></th>\n",
       "      <th>text</th>\n",
       "      <th>x</th>\n",
       "      <th>y</th>\n",
       "    </tr>\n",
       "  </thead>\n",
       "  <tbody>\n",
       "    <tr>\n",
       "      <th>39</th>\n",
       "      <td>Исследование</td>\n",
       "      <td>163</td>\n",
       "      <td>343</td>\n",
       "    </tr>\n",
       "  </tbody>\n",
       "</table>\n",
       "</div>"
      ],
      "text/plain": [
       "            text    x    y\n",
       "39  Исследование  163  343"
      ]
     },
     "execution_count": 60,
     "metadata": {},
     "output_type": "execute_result"
    }
   ],
   "source": [
    "data[data['text'].str.contains('Исследован')]"
   ]
  },
  {
   "cell_type": "code",
   "execution_count": 64,
   "metadata": {},
   "outputs": [],
   "source": [
    "    start = data[data['text'].str.contains('Исследован')]\n",
    "    end = data[data['text'].str.contains('Комментарии')]\n"
   ]
  },
  {
   "cell_type": "code",
   "execution_count": 71,
   "metadata": {},
   "outputs": [],
   "source": [
    "def near(y1, y2):\n",
    "    if np.abs(y1-y2) < 10:\n",
    "        return True\n",
    "    return False"
   ]
  },
  {
   "cell_type": "code",
   "execution_count": null,
   "metadata": {},
   "outputs": [],
   "source": [
    "data"
   ]
  },
  {
   "cell_type": "code",
   "execution_count": 78,
   "metadata": {},
   "outputs": [
    {
     "data": {
      "text/plain": [
       "51    394\n",
       "Name: y, dtype: int64"
      ]
     },
     "execution_count": 78,
     "metadata": {},
     "output_type": "execute_result"
    }
   ],
   "source": [
    "end.y"
   ]
  },
  {
   "cell_type": "code",
   "execution_count": 73,
   "metadata": {},
   "outputs": [
    {
     "data": {
      "text/html": [
       "<div>\n",
       "<style scoped>\n",
       "    .dataframe tbody tr th:only-of-type {\n",
       "        vertical-align: middle;\n",
       "    }\n",
       "\n",
       "    .dataframe tbody tr th {\n",
       "        vertical-align: top;\n",
       "    }\n",
       "\n",
       "    .dataframe thead th {\n",
       "        text-align: right;\n",
       "    }\n",
       "</style>\n",
       "<table border=\"1\" class=\"dataframe\">\n",
       "  <thead>\n",
       "    <tr style=\"text-align: right;\">\n",
       "      <th></th>\n",
       "      <th>text</th>\n",
       "      <th>x</th>\n",
       "      <th>y</th>\n",
       "    </tr>\n",
       "  </thead>\n",
       "  <tbody>\n",
       "    <tr>\n",
       "      <th>51</th>\n",
       "      <td>Комментарии</td>\n",
       "      <td>161</td>\n",
       "      <td>394</td>\n",
       "    </tr>\n",
       "  </tbody>\n",
       "</table>\n",
       "</div>"
      ],
      "text/plain": [
       "           text    x    y\n",
       "51  Комментарии  161  394"
      ]
     },
     "execution_count": 73,
     "metadata": {},
     "output_type": "execute_result"
    }
   ],
   "source": [
    "end"
   ]
  },
  {
   "cell_type": "code",
   "execution_count": 76,
   "metadata": {},
   "outputs": [
    {
     "data": {
      "text/plain": [
       "<bound method Series.between of 39    343\n",
       "Name: y, dtype: int64>"
      ]
     },
     "execution_count": 76,
     "metadata": {},
     "output_type": "execute_result"
    }
   ],
   "source": [
    "start.y.between()"
   ]
  },
  {
   "cell_type": "code",
   "execution_count": 119,
   "metadata": {},
   "outputs": [
    {
     "data": {
      "text/plain": [
       "['Антитела АО коронавирусу Тест-система Вектор-Бест к отрицат. SARS-COV-2, lgG']"
      ]
     },
     "execution_count": 119,
     "metadata": {},
     "output_type": "execute_result"
    }
   ],
   "source": [
    "make_rows(data[data['y'].between(int(start.y)+10, int(end.y)-10)])"
   ]
  },
  {
   "cell_type": "code",
   "execution_count": 117,
   "metadata": {},
   "outputs": [
    {
     "data": {
      "text/plain": [
       "51    394\n",
       "Name: y, dtype: int64"
      ]
     },
     "execution_count": 117,
     "metadata": {},
     "output_type": "execute_result"
    }
   ],
   "source": [
    "near_interval(y1,y2)"
   ]
  },
  {
   "cell_type": "code",
   "execution_count": 122,
   "metadata": {},
   "outputs": [
    {
     "ename": "TypeError",
     "evalue": "descriptor 'lower' of 'str' object needs an argument",
     "output_type": "error",
     "traceback": [
      "\u001b[0;31m---------------------------------------------------------------------------\u001b[0m",
      "\u001b[0;31mTypeError\u001b[0m                                 Traceback (most recent call last)",
      "\u001b[0;32m<ipython-input-122-d7e31edda5eb>\u001b[0m in \u001b[0;36m<module>\u001b[0;34m\u001b[0m\n\u001b[0;32m----> 1\u001b[0;31m \u001b[0mstr\u001b[0m\u001b[0;34m.\u001b[0m\u001b[0mlower\u001b[0m\u001b[0;34m(\u001b[0m\u001b[0;34m)\u001b[0m\u001b[0;34m\u001b[0m\u001b[0m\n\u001b[0m",
      "\u001b[0;31mTypeError\u001b[0m: descriptor 'lower' of 'str' object needs an argument"
     ]
    }
   ],
   "source": [
    "str."
   ]
  },
  {
   "cell_type": "code",
   "execution_count": 118,
   "metadata": {},
   "outputs": [
    {
     "data": {
      "text/plain": [
       "[(0, Pandas(Index=42, text='Антитела', x=163, y=360)),\n",
       " (1, Pandas(Index=43, text='АО', x=524, y=362)),\n",
       " (2, Pandas(Index=44, text='коронавирусу', x=229, y=364)),\n",
       " (3, Pandas(Index=45, text='Тест-система', x=443, y=364)),\n",
       " (4, Pandas(Index=46, text='Вектор-Бест', x=541, y=364)),\n",
       " (5, Pandas(Index=47, text='к', x=219, y=365)),\n",
       " (6, Pandas(Index=48, text='отрицат.', x=321, y=366)),\n",
       " (7, Pandas(Index=49, text='SARS-COV-2,', x=167, y=370)),\n",
       " (8, Pandas(Index=50, text='lgG', x=235, y=375))]"
      ]
     },
     "execution_count": 118,
     "metadata": {},
     "output_type": "execute_result"
    }
   ],
   "source": [
    "list(enumerate(data[data['y'].between(int(start.y)+10, int(end.y)-10)].itertuples()))"
   ]
  },
  {
   "cell_type": "code",
   "execution_count": 108,
   "metadata": {},
   "outputs": [],
   "source": [
    "def make_rows(data):\n",
    "    data_post = list(enumerate(data.itertuples()))\n",
    "    result = '\\n'\n",
    "    result_rows = []\n",
    "    for pos, d in data_post:\n",
    "        _, prev_post = data_post[pos-1]\n",
    "        if near(prev_post.y, d.y):\n",
    "            result_rows[-1] = result_rows[-1] + ' ' + d.text\n",
    "        else:\n",
    "            result_rows += [d.text]\n",
    "    return result_rows"
   ]
  },
  {
   "cell_type": "code",
   "execution_count": null,
   "metadata": {},
   "outputs": [],
   "source": [
    "def handle_invitro(data):\n",
    "    start = data[data['text'].str.contains('Исследован')]\n",
    "    end = data[data['text'].str.contains('Комментарии')]\n",
    "    if near(int(strat.x), int(end.x)):\n",
    "        \n",
    "    else:\n",
    "        raise Exception('Failed')"
   ]
  },
  {
   "cell_type": "code",
   "execution_count": 25,
   "metadata": {},
   "outputs": [
    {
     "data": {
      "text/plain": [
       "167"
      ]
     },
     "execution_count": 25,
     "metadata": {},
     "output_type": "execute_result"
    }
   ],
   "source": [
    "t.bounding_poly.vertices[0].x"
   ]
  },
  {
   "cell_type": "code",
   "execution_count": 18,
   "metadata": {},
   "outputs": [
    {
     "data": {
      "text/plain": [
       "'INVITRO'"
      ]
     },
     "execution_count": 18,
     "metadata": {},
     "output_type": "execute_result"
    }
   ],
   "source": [
    "t.description"
   ]
  },
  {
   "cell_type": "code",
   "execution_count": 30,
   "metadata": {},
   "outputs": [],
   "source": [
    "from PIL import Image\n",
    "import numpy as np\n",
    "\n",
    "import cv2"
   ]
  },
  {
   "cell_type": "code",
   "execution_count": 50,
   "metadata": {},
   "outputs": [],
   "source": [
    "orig = Image.open('./ocr/1.jpg')"
   ]
  },
  {
   "cell_type": "code",
   "execution_count": 43,
   "metadata": {},
   "outputs": [
    {
     "data": {
      "text/plain": [
       "'Груп-СПб\"'"
      ]
     },
     "execution_count": 43,
     "metadata": {},
     "output_type": "execute_result"
    }
   ],
   "source": [
    "txt[10].description"
   ]
  },
  {
   "cell_type": "code",
   "execution_count": 51,
   "metadata": {},
   "outputs": [],
   "source": [
    "from PIL import ImageDraw, ImageFont"
   ]
  },
  {
   "cell_type": "code",
   "execution_count": 60,
   "metadata": {},
   "outputs": [],
   "source": [
    "orig = Image.open('./ocr/1.jpg')\n",
    "\n",
    "draw = ImageDraw.Draw(orig)  \n",
    "  \n",
    "font = ImageFont.truetype(r'./arial.ttf', 12)  \n",
    "  \n",
    "  "
   ]
  },
  {
   "cell_type": "code",
   "execution_count": 61,
   "metadata": {},
   "outputs": [],
   "source": [
    "for t in txt[1:]:\n",
    "    startX = t.bounding_poly.vertices[0].x\n",
    "    startY = t.bounding_poly.vertices[0].y\n",
    "    endX = t.bounding_poly.vertices[2].x\n",
    "    endY = t.bounding_poly.vertices[2].y\n",
    "    text = t.description\n",
    "    draw.rectangle(((startX, startY), (endX, endY)), )\n",
    "#     output = cv2.rectangle(output, (startX, startY), (endX, endY),\n",
    "#                 (0, 0, 255), 1)\n",
    "    draw.text((startX, startY), text, font = font, align =\"left\")  "
   ]
  },
  {
   "cell_type": "markdown",
   "metadata": {},
   "source": [
    "------------------"
   ]
  },
  {
   "cell_type": "code",
   "execution_count": null,
   "metadata": {},
   "outputs": [],
   "source": [
    "pars = pd.DataFrame(paragraphs)"
   ]
  },
  {
   "cell_type": "code",
   "execution_count": null,
   "metadata": {},
   "outputs": [],
   "source": [
    "pars.loc[40:]"
   ]
  },
  {
   "cell_type": "code",
   "execution_count": 77,
   "metadata": {},
   "outputs": [],
   "source": [
    "pars = df\n",
    "pars = pars.sort_values(['y', 'x']).reset_index(drop=1)\n",
    "pars['diff'] = [100, *np.diff(pars['y'].values)]\n",
    "\n",
    "rows = list(pars.iterrows())\n",
    "for i,r in rows:\n",
    "    if np.abs(r['diff']) <= 5:\n",
    "        pars.loc[i, 'y'] = pars.loc[i-1, 'y'] \n",
    "pars = pars.sort_values(['y', 'x']).reset_index(drop=1)\n",
    "\n",
    "pars_i = list(pars.iterrows())\n",
    "text = '\\n'\n",
    "k = []\n",
    "for pos,d in pars_i:\n",
    "    if near(pars_i[pos-1][1]['y'],d['y']):\n",
    "        k[-1] = k[-1] + ' ' + d['text']\n",
    "    else:\n",
    "        k += [d['text']]\n",
    "\n",
    "text = text.join(k)"
   ]
  },
  {
   "cell_type": "code",
   "execution_count": 126,
   "metadata": {},
   "outputs": [],
   "source": [
    "from dataclasses import dataclass\n"
   ]
  },
  {
   "cell_type": "code",
   "execution_count": 25,
   "metadata": {},
   "outputs": [],
   "source": [
    "result = namedtuple('analysis', ['antibody', 'covid'])"
   ]
  },
  {
   "cell_type": "code",
   "execution_count": 26,
   "metadata": {},
   "outputs": [
    {
     "data": {
      "text/plain": [
       "__main__.analysis"
      ]
     },
     "execution_count": 26,
     "metadata": {},
     "output_type": "execute_result"
    }
   ],
   "source": [
    "result()"
   ]
  },
  {
   "cell_type": "code",
   "execution_count": 73,
   "metadata": {},
   "outputs": [
    {
     "name": "stdout",
     "output_type": "stream",
     "text": [
      "INVITRO\n",
      "ЛИФАНОВ АЛЕКСАНДР ВЛАДИМИРОВИЧ\n",
      "Пол:\n",
      "ООО \"ммц Медикал Он Груп-СПб\"\n",
      "Санкт-Петербуpг, ул. Восстания, д. 1\n",
      "Муж\n",
      "Возраст:\n",
      "WH3:\n",
      "31 год\n",
      "412674254\n",
      "09.06.2020 08:57\n",
      "Дата взятия образца:\n",
      "Дата поступления образца:\n",
      "Врач:\n",
      "Дата печати результата:\n",
      "09.06.2020 13:41\n",
      "10.06.2020 17:39\n",
      "10.06.2020 17:49\n",
      "Исследование\n",
      "Комментарий\n",
      "Тест-система АО Вектор-Бест\n",
      "Результат\n",
      "Антитела к коронавирусу отрицат.\n",
      "SARS-COV-2, lgG\n",
      "Комментарии к заявке:\n",
      "IMK: 66820-У;Врач: Супрунович Андрей Георгиевич; Пл: 0о30097 от 04.03.2020;1\n",
      "Интерпретация результатов по ссылке\n",
      "Интерпретация результатов исследования антител к SARS-CoV-2 осуществляется врачом в комплексе с клинической\n",
      "картиной, результатами других видов исследований и в контексте эпидемиологической ситуации, они не могут\n",
      "служить единственным основанием для постановки диагноза. Диагноз COVID-19 устанавливается лечащим врачом на\n",
      "основании клинического обследования, эпидемиологического анамнеза и результатов лабораторных исследований.\n",
      "Наличие специфических 1gм к SARS-COV-2 при отрицательных результатах исследования специфических IgG к SARS-\n",
      "CoV-2 может свидетельствовать о подострой фазе инфекции СOVID-19, при этом не предоставляя информации о том,\n",
      "есть или нет у пациента клинические проявления инфекции, является ли он потенциальным распространителем\n",
      "вируса или нет. Наличие слецифических lgG к SARS-Co-2, в отсутствие признаков заболевания и при отрицательных\n",
      "результатах исследования вирусной РНК (методом ПЦР) в биоматериале из верхних дыхательных путей, вне\n",
      "зависимости от наличия слецифических 1gМ к SARS-CoV-2, может быть свидетельством того, что пациент\n",
      "контактировал с SARS-CoV-2, что привело к выработке обнаруженных антител, и вероятность его заражения ниже,\n",
      "чем у пациентов, у которых антитела 1gG к SARS-CoV-2 не определяются.\n",
      "Внимание! В электронном зэкземпляре бланка название исследования содержит ссылку на страницу сайта\n",
      "http://www.invitro.ru/c описанием исследования.\n",
      "Результаты исследований не являются диагнозом, необходима консультация специалиста.\n",
      "Jiese\n",
      "(ИВИТРО СПб-\n",
      "Заведующий лабораторией\n",
      "врач Пешкова Н.Г.\n",
      "peaynutanos\n",
      "Nepen a ooa\n",
      "yt pynraro\n",
      "лбораторного тестирования\n",
      ". CANKTDETEPEYPT\n",
      "стр. 1 из 1\n",
      "\n"
     ]
    }
   ],
   "source": [
    "print(txt[0].description)"
   ]
  },
  {
   "cell_type": "code",
   "execution_count": 80,
   "metadata": {},
   "outputs": [],
   "source": [
    "for a in k:\n",
    "    if 'Антитела SARS-COV-2, к коронавирусу' in a:\n",
    "        break"
   ]
  },
  {
   "cell_type": "code",
   "execution_count": 83,
   "metadata": {},
   "outputs": [],
   "source": [
    "if 'lgG' in a:\n",
    "    ...\n",
    "elif 'lgM' in a:\n",
    "    ...\n",
    "else:\n",
    "    raise()"
   ]
  },
  {
   "cell_type": "markdown",
   "metadata": {},
   "source": [
    "Леш, привет\n",
    "Мы насобирали примеров анализов из инвитро и гемостеста\n",
    "Поняли следующее: есть тест на корону и на антитела\n",
    "\n",
    "На корону проверяют РНК, если там написано \"отрицательный\", значит все ок, чел здоров\n",
    "\n",
    "На антитела проверяют IgG и IgM (это 2 имуноглобуллина), их обычно пишут на разных листках, поэтому видимо если находим один из Ig, то будем запрашивать 2 фотку. Если IgM положительный, igG отрицательный - значит чел в группе риска, в остальных случаях все ок\n",
    "\n",
    "Сможешь начать технологию делать? \n",
    "Будем еще примеры бланков присылать, но пока кажется, что они все +- похожи"
   ]
  },
  {
   "cell_type": "code",
   "execution_count": 35,
   "metadata": {},
   "outputs": [
    {
     "data": {
      "text/plain": [
       "text    INVITRO\\nЛИФАНОВ АЛЕКСАНДР ВЛАДИМИРОВИЧ\\nПол:\\...\n",
       "x                                                     156\n",
       "y                                                     150\n",
       "Name: 0, dtype: object"
      ]
     },
     "execution_count": 35,
     "metadata": {},
     "output_type": "execute_result"
    }
   ],
   "source": [
    "df.loc[0]"
   ]
  },
  {
   "cell_type": "code",
   "execution_count": 31,
   "metadata": {},
   "outputs": [],
   "source": [
    "import pandas as pd"
   ]
  },
  {
   "cell_type": "code",
   "execution_count": 32,
   "metadata": {},
   "outputs": [],
   "source": [
    "df = pd.DataFrame([{'text':t.description, 'y':t.bounding_poly.vertices[0].y, 'x':t.bounding_poly.vertices[0].x} for t in txt])"
   ]
  },
  {
   "cell_type": "code",
   "execution_count": null,
   "metadata": {},
   "outputs": [],
   "source": [
    "orig"
   ]
  },
  {
   "cell_type": "code",
   "execution_count": 58,
   "metadata": {},
   "outputs": [],
   "source": [
    "orig.save('./1_ocr.jpg')"
   ]
  },
  {
   "cell_type": "code",
   "execution_count": 59,
   "metadata": {},
   "outputs": [],
   "source": [
    "import numpy as np\n",
    "\n",
    "def near(y1, y2):\n",
    "    if np.abs(y1-y2) < 5:\n",
    "        return True\n",
    "    return False"
   ]
  },
  {
   "cell_type": "code",
   "execution_count": null,
   "metadata": {},
   "outputs": [],
   "source": []
  },
  {
   "cell_type": "code",
   "execution_count": null,
   "metadata": {},
   "outputs": [],
   "source": [
    "for t in txt[1:]:\n",
    "    if t.bounding_poly.vertices"
   ]
  },
  {
   "cell_type": "code",
   "execution_count": 1,
   "metadata": {},
   "outputs": [
    {
     "name": "stdout",
     "output_type": "stream",
     "text": [
      "Collecting git+git://github.com/jaidedai/easyocr.git\n",
      "  Cloning git://github.com/jaidedai/easyocr.git to /private/var/folders/l7/l0txjzjx4ps0_c457p5s4hrw0000gn/T/pip-req-build-f2w1kxz2\n",
      "Requirement already satisfied: torch in /Users/kafka/anaconda3/lib/python3.6/site-packages (from easyocr==1.1.10) (1.5.0)\n",
      "Requirement already satisfied: torchvision>=0.5 in /Users/kafka/anaconda3/lib/python3.6/site-packages (from easyocr==1.1.10) (0.6.0)\n",
      "Requirement already satisfied: opencv-python in /Users/kafka/anaconda3/lib/python3.6/site-packages (from easyocr==1.1.10) (4.1.0.25)\n",
      "Requirement already satisfied: scipy in /Users/kafka/anaconda3/lib/python3.6/site-packages (from easyocr==1.1.10) (1.4.1)\n",
      "Requirement already satisfied: numpy in /Users/kafka/anaconda3/lib/python3.6/site-packages (from easyocr==1.1.10) (1.19.0)\n",
      "Requirement already satisfied: Pillow in /Users/kafka/anaconda3/lib/python3.6/site-packages (from easyocr==1.1.10) (7.2.0)\n",
      "Requirement already satisfied: scikit-image in /Users/kafka/anaconda3/lib/python3.6/site-packages (from easyocr==1.1.10) (0.15.0)\n",
      "Collecting python-bidi\n",
      "  Downloading python_bidi-0.4.2-py2.py3-none-any.whl (30 kB)\n",
      "Requirement already satisfied: future in /Users/kafka/anaconda3/lib/python3.6/site-packages (from torch->easyocr==1.1.10) (0.17.1)\n",
      "Requirement already satisfied: networkx>=2.0 in /Users/kafka/anaconda3/lib/python3.6/site-packages (from scikit-image->easyocr==1.1.10) (2.3)\n",
      "Requirement already satisfied: imageio>=2.0.1 in /Users/kafka/anaconda3/lib/python3.6/site-packages (from scikit-image->easyocr==1.1.10) (2.5.0)\n",
      "Requirement already satisfied: PyWavelets>=0.4.0 in /Users/kafka/anaconda3/lib/python3.6/site-packages (from scikit-image->easyocr==1.1.10) (1.0.3)\n",
      "Requirement already satisfied: matplotlib!=3.0.0,>=2.0.0 in /Users/kafka/anaconda3/lib/python3.6/site-packages (from scikit-image->easyocr==1.1.10) (3.0.2)\n",
      "Requirement already satisfied: six in /Users/kafka/anaconda3/lib/python3.6/site-packages (from python-bidi->easyocr==1.1.10) (1.15.0)\n",
      "Requirement already satisfied: decorator>=4.3.0 in /Users/kafka/anaconda3/lib/python3.6/site-packages (from networkx>=2.0->scikit-image->easyocr==1.1.10) (4.4.0)\n",
      "Requirement already satisfied: cycler>=0.10 in /Users/kafka/anaconda3/lib/python3.6/site-packages (from matplotlib!=3.0.0,>=2.0.0->scikit-image->easyocr==1.1.10) (0.10.0)\n",
      "Requirement already satisfied: kiwisolver>=1.0.1 in /Users/kafka/anaconda3/lib/python3.6/site-packages (from matplotlib!=3.0.0,>=2.0.0->scikit-image->easyocr==1.1.10) (1.1.0)\n",
      "Requirement already satisfied: pyparsing!=2.0.4,!=2.1.2,!=2.1.6,>=2.0.1 in /Users/kafka/anaconda3/lib/python3.6/site-packages (from matplotlib!=3.0.0,>=2.0.0->scikit-image->easyocr==1.1.10) (2.4.0)\n",
      "Requirement already satisfied: python-dateutil>=2.1 in /Users/kafka/anaconda3/lib/python3.6/site-packages (from matplotlib!=3.0.0,>=2.0.0->scikit-image->easyocr==1.1.10) (2.8.0)\n",
      "Requirement already satisfied: setuptools in /Users/kafka/anaconda3/lib/python3.6/site-packages (from kiwisolver>=1.0.1->matplotlib!=3.0.0,>=2.0.0->scikit-image->easyocr==1.1.10) (41.0.1)\n",
      "Building wheels for collected packages: easyocr\n",
      "  Building wheel for easyocr (setup.py) ... \u001b[?25ldone\n",
      "\u001b[?25h  Created wheel for easyocr: filename=easyocr-1.1.10-py3-none-any.whl size=49210929 sha256=6a59a48399c8f06984fce53abeeabc48ab839d440438ba0b3fd83c10060d28ed\n",
      "  Stored in directory: /private/var/folders/l7/l0txjzjx4ps0_c457p5s4hrw0000gn/T/pip-ephem-wheel-cache-4phl0byw/wheels/f0/48/8d/9d02b55b2167ac0f8480ce13dd64a3af114475584f6f04f02e\n",
      "Successfully built easyocr\n",
      "Installing collected packages: python-bidi, easyocr\n",
      "Successfully installed easyocr-1.1.10 python-bidi-0.4.2\n",
      "\u001b[33mWARNING: You are using pip version 20.2.3; however, version 20.2.4 is available.\n",
      "You should consider upgrading via the '/Users/kafka/anaconda3/bin/python -m pip install --upgrade pip' command.\u001b[0m\n"
     ]
    }
   ],
   "source": [
    "! pip install git+git://github.com/jaidedai/easyocr.git\n"
   ]
  },
  {
   "cell_type": "code",
   "execution_count": 1,
   "metadata": {},
   "outputs": [
    {
     "name": "stderr",
     "output_type": "stream",
     "text": [
      "CUDA not available - defaulting to CPU. Note: This module is much faster with a GPU.\n",
      "Downloading detection model, please wait. This may take several minutes depending upon your network connection.\n"
     ]
    },
    {
     "name": "stdout",
     "output_type": "stream",
     "text": []
    },
    {
     "name": "stdout",
     "output_type": "stream",
     "text": []
    },
    {
     "name": "stdout",
     "output_type": "stream",
     "text": []
    },
    {
     "name": "stdout",
     "output_type": "stream",
     "text": []
    },
    {
     "name": "stdout",
     "output_type": "stream",
     "text": []
    },
    {
     "name": "stdout",
     "output_type": "stream",
     "text": []
    },
    {
     "name": "stdout",
     "output_type": "stream",
     "text": []
    },
    {
     "name": "stdout",
     "output_type": "stream",
     "text": []
    },
    {
     "name": "stdout",
     "output_type": "stream",
     "text": []
    },
    {
     "name": "stdout",
     "output_type": "stream",
     "text": []
    },
    {
     "name": "stdout",
     "output_type": "stream",
     "text": []
    },
    {
     "name": "stdout",
     "output_type": "stream",
     "text": []
    },
    {
     "name": "stdout",
     "output_type": "stream",
     "text": []
    },
    {
     "name": "stdout",
     "output_type": "stream",
     "text": []
    },
    {
     "name": "stdout",
     "output_type": "stream",
     "text": []
    },
    {
     "name": "stderr",
     "output_type": "stream",
     "text": [
      "Downloading recognition model, please wait. This may take several minutes depending upon your network connection.\n"
     ]
    },
    {
     "name": "stdout",
     "output_type": "stream",
     "text": []
    },
    {
     "name": "stdout",
     "output_type": "stream",
     "text": []
    },
    {
     "name": "stdout",
     "output_type": "stream",
     "text": []
    },
    {
     "name": "stdout",
     "output_type": "stream",
     "text": []
    },
    {
     "name": "stdout",
     "output_type": "stream",
     "text": []
    },
    {
     "name": "stdout",
     "output_type": "stream",
     "text": []
    },
    {
     "name": "stdout",
     "output_type": "stream",
     "text": []
    },
    {
     "name": "stdout",
     "output_type": "stream",
     "text": []
    }
   ],
   "source": [
    "import easyocr\n",
    "reader = easyocr.Reader(['ru']) # need to run only once to load model into memory\n"
   ]
  },
  {
   "cell_type": "code",
   "execution_count": 3,
   "metadata": {},
   "outputs": [],
   "source": [
    "%%time\n",
    "result = reader.readtext('demo.png')"
   ]
  },
  {
   "cell_type": "code",
   "execution_count": null,
   "metadata": {},
   "outputs": [],
   "source": [
    "result"
   ]
  },
  {
   "cell_type": "code",
   "execution_count": 7,
   "metadata": {},
   "outputs": [],
   "source": [
    "! pip install parsel\n",
    "\n",
    "! pip install pytesseract"
   ]
  },
  {
   "cell_type": "code",
   "execution_count": 5,
   "metadata": {},
   "outputs": [],
   "source": [
    "import pytesseract\n",
    "\n",
    "def tesseract_read(file: str):\n",
    "    \"\"\"\n",
    "    extract text from the image using Tesseract\n",
    "    :param file: path to the image\n",
    "    :type file: str\n",
    "    :return: text\n",
    "    :rtype: str\n",
    "    \"\"\"\n",
    "    hocr = pytesseract.image_to_pdf_or_hocr(file, extension='hocr', lang='rus')\n",
    "    xml = hocr.decode('utf-8')\n",
    "    doc = parse_xml(xml)\n",
    "    tsa_output = []\n",
    "\n",
    "    # get text\n",
    "    for tag in doc.xpath('/html/body/div/div/p/span/span'):\n",
    "        try:\n",
    "            tsa_output.append(str(tag.xpath('text()')[0]))\n",
    "        except:\n",
    "            pass\n",
    "\n",
    "    tsa_output = \" \".join(tsa_output).lower()  # lowercase the output to be better compared with easyocr\n",
    "    tsa_output = tsa_output.replace('-', ' ')  # replace '-' to be better compared with easyocr\n",
    "    \n",
    "    return tsa_output, doc\n",
    "\n",
    "def create_img(file: str, text):\n",
    "    \"\"\"\n",
    "    create image with text on white background\n",
    "    :param file: the path to save the image\n",
    "    :type file: str\n",
    "    :param text: the text to write on the image\n",
    "    :type text: str or float\n",
    "    :return: None\n",
    "    :rtype: None\n",
    "    \"\"\"\n",
    "    img = Image.new('RGB', (200, 50), color = (255, 255, 255))\n",
    "    d = ImageDraw.Draw(img)\n",
    "    fnt = ImageFont.truetype('arial.ttf', 15)  # set up font\n",
    "    d.text((10,10), str(text), font=fnt, fill=(0,0,0))  # write text on image\n",
    "    img.save(file)\n",
    "    img.close()\n",
    "\n",
    "def parse_xml(xml):\n",
    "    \"\"\"\n",
    "    parse xml text to be accessed through xpath\n",
    "    :param xml: xml text\n",
    "    :type xml: str\n",
    "    :return: parsel.selector.Selector\n",
    "    :rtype: object\n",
    "    \"\"\"\n",
    "    # setup xml parser\n",
    "    parsel.Selector.__str__ = parsel.Selector.extract\n",
    "    parsel.Selector.__repr__ = parsel.Selector.__str__\n",
    "    parsel.SelectorList.__repr__ = lambda x: '[{}]'.format(\n",
    "        '\\n '.join(\"({}) {!r}\".format(i, repr(s))\n",
    "                   for i, s in enumerate(x, start=1))\n",
    "    ).replace(r'\\n', '\\n')\n",
    "\n",
    "    doc = parsel.Selector(text=xml)\n",
    "    return doc"
   ]
  },
  {
   "cell_type": "code",
   "execution_count": 6,
   "metadata": {},
   "outputs": [],
   "source": [
    "from PIL import Image, ImageDraw, ImageFont\n",
    "import random\n",
    "import time\n",
    "import pytesseract\n",
    "import easyocr\n",
    "import parsel\n",
    "import numpy as np\n",
    "import pandas as pd\n",
    "import difflib\n",
    "import sys"
   ]
  },
  {
   "cell_type": "code",
   "execution_count": 40,
   "metadata": {},
   "outputs": [
    {
     "name": "stdout",
     "output_type": "stream",
     "text": [
      "CPU times: user 1.34 s, sys: 44.8 ms, total: 1.38 s\n",
      "Wall time: 4.25 s\n"
     ]
    }
   ],
   "source": [
    "%%time\n",
    "\n",
    "o = pytesseract.image_to_data(Image.open('../demo.png'), lang='rus', output_type='data.frame')\n"
   ]
  },
  {
   "cell_type": "code",
   "execution_count": null,
   "metadata": {},
   "outputs": [],
   "source": [
    "for tag in a.xpath('/html/body/div/div/p/span/span'):\n",
    "    print(tag.xpath('text()'))"
   ]
  },
  {
   "cell_type": "code",
   "execution_count": 23,
   "metadata": {},
   "outputs": [
    {
     "data": {
      "text/plain": [
       "' '"
      ]
     },
     "execution_count": 23,
     "metadata": {},
     "output_type": "execute_result"
    }
   ],
   "source": [
    "str(tag.xpath('text()')[0])"
   ]
  },
  {
   "cell_type": "code",
   "execution_count": null,
   "metadata": {},
   "outputs": [],
   "source": []
  },
  {
   "cell_type": "code",
   "execution_count": 13,
   "metadata": {},
   "outputs": [],
   "source": [
    "from PIL import Image\n",
    "import numpy as np"
   ]
  },
  {
   "cell_type": "code",
   "execution_count": 14,
   "metadata": {},
   "outputs": [],
   "source": [
    "img = np.array(Image.open('./ocr/2.jpg'))"
   ]
  },
  {
   "cell_type": "code",
   "execution_count": 16,
   "metadata": {},
   "outputs": [],
   "source": [
    "result = reader.readtext(img)"
   ]
  }
 ],
 "metadata": {
  "kernelspec": {
   "display_name": "Python 3",
   "language": "python",
   "name": "python3"
  },
  "language_info": {
   "codemirror_mode": {
    "name": "ipython",
    "version": 3
   },
   "file_extension": ".py",
   "mimetype": "text/x-python",
   "name": "python",
   "nbconvert_exporter": "python",
   "pygments_lexer": "ipython3",
   "version": "3.6.5"
  }
 },
 "nbformat": 4,
 "nbformat_minor": 4
}

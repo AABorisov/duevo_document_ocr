{
 "cells": [
  {
   "cell_type": "code",
   "execution_count": 1,
   "metadata": {},
   "outputs": [],
   "source": [
    "import os\n",
    "\n",
    "os.chdir('../')"
   ]
  },
  {
   "cell_type": "code",
   "execution_count": 2,
   "metadata": {},
   "outputs": [
    {
     "data": {
      "text/plain": [
       "'/Users/kafka/Projects/doc'"
      ]
     },
     "execution_count": 2,
     "metadata": {},
     "output_type": "execute_result"
    }
   ],
   "source": [
    "os.getcwd()"
   ]
  },
  {
   "cell_type": "code",
   "execution_count": null,
   "metadata": {},
   "outputs": [],
   "source": [
    "! pip install gdown"
   ]
  },
  {
   "cell_type": "code",
   "execution_count": null,
   "metadata": {},
   "outputs": [],
   "source": [
    "! gdown --id 1DDfxcraAn4Mlafba1oYOHvsSrIo_7jZx"
   ]
  },
  {
   "cell_type": "code",
   "execution_count": null,
   "metadata": {},
   "outputs": [],
   "source": [
    "! 7z x scan.zip -o\"scans\""
   ]
  },
  {
   "cell_type": "code",
   "execution_count": 10,
   "metadata": {},
   "outputs": [],
   "source": [
    "! rm scan.zip"
   ]
  },
  {
   "cell_type": "code",
   "execution_count": 16,
   "metadata": {},
   "outputs": [
    {
     "name": "stdout",
     "output_type": "stream",
     "text": [
      "Requirement already satisfied: pdf2image in /Users/kafka/anaconda3/lib/python3.6/site-packages (1.10.0)\n",
      "Requirement already satisfied: pillow in /Users/kafka/anaconda3/lib/python3.6/site-packages (from pdf2image) (7.2.0)\n",
      "\u001b[33mWARNING: You are using pip version 20.2.3; however, version 20.2.4 is available.\n",
      "You should consider upgrading via the '/Users/kafka/anaconda3/bin/python -m pip install --upgrade pip' command.\u001b[0m\n"
     ]
    }
   ],
   "source": [
    "! pip install pdf2image"
   ]
  },
  {
   "cell_type": "code",
   "execution_count": null,
   "metadata": {},
   "outputs": [],
   "source": [
    "from glob import glob\n",
    "from pathlib import Path\n",
    "from tqdm import tqdm\n",
    "\n",
    "files = glob('./scans/скан/*/*')\n",
    "\n",
    "img_dir = './data/imgs/'\n",
    "os.makedirs(img_dir, exist_ok=True)\n",
    "\n",
    "for f in tqdm(files):\n",
    "    \n",
    "    parent_dir = os.path.dirname(f).split('/')[-1]\n",
    "    \n",
    "    save_dir = data_dir + parent_dir\n",
    "    os.makedirs(save_dir, exist_ok=True)\n",
    "    img_s_dir = img_dir + parent_dir\n",
    "    os.makedirs(img_s_dir, exist_ok=True)\n",
    "\n",
    "    \n",
    "    save_path = img_s_dir + '/' + Path(f).stem\n",
    "\n",
    "    images = convert_from_path(f)\n",
    "    for i, img in enumerate(images):\n",
    "        img.save(save_path + f'_{i}.png')"
   ]
  },
  {
   "cell_type": "code",
   "execution_count": null,
   "metadata": {},
   "outputs": [],
   "source": [
    "import os\n",
    "os.chdir('../')\n",
    "\n",
    "import io\n",
    "from glob import glob\n",
    "from pathlib import Path\n",
    "from tqdm import tqdm\n",
    "from doc.api import GoogleOCR\n",
    "\n",
    "files = glob('./data/imgs/*/*')\n",
    "\n",
    "data_dir = './data/google/'\n",
    "os.makedirs(data_dir, exist_ok=True)\n",
    "\n",
    "ocr = GoogleOCR('./dearkafka-ea2c4a039345.json')\n",
    "\n"
   ]
  },
  {
   "cell_type": "code",
   "execution_count": null,
   "metadata": {},
   "outputs": [],
   "source": [
    "for f in tqdm(files[644:]):\n",
    "    \n",
    "    parent_dir = os.path.dirname(f).split('/')[-1]\n",
    "    \n",
    "    save_dir = data_dir + parent_dir\n",
    "    os.makedirs(save_dir, exist_ok=True)\n",
    "    save_path = save_dir + '/' + Path(f).stem\n",
    "    with io.open(f, 'rb') as image_file:\n",
    "        content = image_file.read()\n",
    "    ans = ocr.detect(content)\n",
    "    if ans:\n",
    "        df = ocr.postprocess(ans)\n",
    "        df.to_csv(save_path + '_g_ocr.csv', index=False)"
   ]
  },
  {
   "cell_type": "code",
   "execution_count": 8,
   "metadata": {},
   "outputs": [],
   "source": [
    "import pytesseract"
   ]
  },
  {
   "cell_type": "code",
   "execution_count": 25,
   "metadata": {},
   "outputs": [
    {
     "name": "stderr",
     "output_type": "stream",
     "text": [
      "\n",
      "  0%|          | 0/1666 [00:00<?, ?it/s]\u001b[A"
     ]
    }
   ],
   "source": [
    "from glob import glob\n",
    "from pathlib import Path\n",
    "from tqdm import tqdm\n",
    "from PIL import Image\n",
    "import pandas as pd\n",
    "\n",
    "files = glob('./data/imgs/*/*')\n",
    "data_dir = './data/tesseract/'\n",
    "\n",
    "for f in tqdm(files):\n",
    "    \n",
    "    parent_dir = os.path.dirname(f).split('/')[-1]\n",
    "    \n",
    "    save_dir = data_dir + parent_dir\n",
    "    os.makedirs(save_dir, exist_ok=True)\n",
    "    save_path = save_dir + '/' + Path(f).stem\n",
    "    df = pytesseract.image_to_data(Image.open(f), lang='rus', output_type='data.frame')\n",
    "    if len(df):\n",
    "        df = df[~pd.isna(df['text'])]\n",
    "        df = df[df['text']!=' ']\n",
    "        df = df.reset_index(drop=True)\n",
    "        break\n",
    "        df.to_csv(save_path + '_g_ocr.csv', index=False)"
   ]
  },
  {
   "cell_type": "code",
   "execution_count": 29,
   "metadata": {},
   "outputs": [],
   "source": [
    "a = list(df.itertuples())[0]"
   ]
  },
  {
   "cell_type": "code",
   "execution_count": 38,
   "metadata": {},
   "outputs": [],
   "source": [
    "import io\n",
    "with io.open('./demo.png', 'rb') as f:\n",
    "    c = f.read()"
   ]
  },
  {
   "cell_type": "code",
   "execution_count": 42,
   "metadata": {},
   "outputs": [],
   "source": [
    "image = Image.open(io.BytesIO(c))\n"
   ]
  },
  {
   "cell_type": "code",
   "execution_count": null,
   "metadata": {},
   "outputs": [],
   "source": [
    " (x, y), (x + w, y + h)"
   ]
  },
  {
   "cell_type": "code",
   "execution_count": null,
   "metadata": {},
   "outputs": [],
   "source": [
    "def postprocess( text):\n",
    "        data = pd.DataFrame([{\n",
    "            'text':t.text, \n",
    "            'upper_left_y':t.top, \n",
    "            'upper_left_x':t.left,\n",
    "            'upper_right_y':t.top, \n",
    "            'upper_right_x':t.left + t.width,\n",
    "            'lower_right_y':t.top + t.height, \n",
    "            'lower_right_x':t.left + t.width,\n",
    "            'lower_left_y':t.top + t.height, \n",
    "            'lower_left_x':t.left,\n",
    "        } for t in list(df.itertuples())])\n",
    "        data = data.sort_values(['upper_left_y', 'upper_left_x']).reset_index(drop=1)\n",
    "        return data"
   ]
  },
  {
   "cell_type": "code",
   "execution_count": null,
   "metadata": {},
   "outputs": [],
   "source": [
    "o = pytesseract.image_to_data(Image.open('../demo.png'), lang='rus', output_type='data.frame')\n"
   ]
  },
  {
   "cell_type": "code",
   "execution_count": 7,
   "metadata": {},
   "outputs": [],
   "source": [
    "from pdf2image import convert_from_path, convert_from_bytes\n",
    "\n",
    "\n",
    "from pdf2image.exceptions import (\n",
    "    PDFInfoNotInstalledError,\n",
    "    PDFPageCountError,\n",
    "    PDFSyntaxError\n",
    ")"
   ]
  },
  {
   "cell_type": "code",
   "execution_count": 8,
   "metadata": {},
   "outputs": [
    {
     "name": "stdout",
     "output_type": "stream",
     "text": [
      "CPU times: user 36.3 ms, sys: 43.2 ms, total: 79.5 ms\n",
      "Wall time: 2.48 s\n"
     ]
    }
   ],
   "source": [
    "%%time\n",
    "images = convert_from_path(files[0])"
   ]
  },
  {
   "cell_type": "code",
   "execution_count": null,
   "metadata": {},
   "outputs": [],
   "source": [
    "images[0]"
   ]
  },
  {
   "cell_type": "code",
   "execution_count": null,
   "metadata": {},
   "outputs": [],
   "source": [
    "! pip install pyyaml --ignore-installed\n",
    "! pip install google-cloud-vision"
   ]
  },
  {
   "cell_type": "markdown",
   "metadata": {},
   "source": [
    "------"
   ]
  },
  {
   "cell_type": "code",
   "execution_count": 40,
   "metadata": {},
   "outputs": [],
   "source": [
    "from PIL import Image, ImageDraw, ImageFont\n",
    "\n",
    "orig = Image.open('./demo.png')\n",
    "#orig = Image.new('RGBA', (1654, 2338), (0, 255, 0, 0))\n",
    "\n",
    "draw = ImageDraw.Draw(orig)  \n",
    "  \n",
    "font = ImageFont.truetype(r'./arial.ttf', 12)  \n",
    "  \n",
    "  "
   ]
  },
  {
   "cell_type": "code",
   "execution_count": 41,
   "metadata": {},
   "outputs": [],
   "source": [
    "for t in ans[1:]:\n",
    "    startX = t.bounding_poly.vertices[0].x\n",
    "    startY = t.bounding_poly.vertices[0].y\n",
    "    endX = t.bounding_poly.vertices[2].x\n",
    "    endY = t.bounding_poly.vertices[2].y\n",
    "    text = t.description\n",
    "    draw.rectangle(((startX, startY), (endX, endY)), outline='red')\n",
    "#     output = cv2.rectangle(output, (startX, startY), (endX, endY),\n",
    "#                 (0, 0, 255), 1)\n",
    "    draw.text((startX, startY), text, font = font, align =\"left\", fill='red')  "
   ]
  }
 ],
 "metadata": {
  "kernelspec": {
   "display_name": "Python 3",
   "language": "python",
   "name": "python3"
  },
  "language_info": {
   "codemirror_mode": {
    "name": "ipython",
    "version": 3
   },
   "file_extension": ".py",
   "mimetype": "text/x-python",
   "name": "python",
   "nbconvert_exporter": "python",
   "pygments_lexer": "ipython3",
   "version": "3.6.5"
  }
 },
 "nbformat": 4,
 "nbformat_minor": 2
}

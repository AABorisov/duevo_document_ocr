{
 "cells": [
  {
   "cell_type": "code",
   "execution_count": 1,
   "metadata": {},
   "outputs": [],
   "source": [
    "import os\n",
    "os.chdir('../')\n",
    "from doc.utils import make_rows,fix_gramma\n",
    "from glob import glob\n",
    "import pandas as pd\n",
    "\n",
    "docs = list(sorted(glob('./data/google/1_БТИ/*')))\n",
    "\n"
   ]
  },
  {
   "cell_type": "code",
   "execution_count": 2,
   "metadata": {},
   "outputs": [],
   "source": [
    "def gather_docs(files):\n",
    "    import os\n",
    "    from collections import defaultdict\n",
    "\n",
    "    fnames = set()\n",
    "    for f in files:\n",
    "        fnames.add(os.path.dirname(f) + '/' + os.path.basename(f).split('_')[0])\n",
    "    docs = defaultdict(list)\n",
    "    for f in files:\n",
    "        f_name = os.path.dirname(f) + '/' + os.path.basename(f).split('_')[0]\n",
    "        docs[f_name].append(f)\n",
    "    return docs\n",
    "\n",
    "docs = gather_docs(docs)\n",
    "\n",
    "subset = ['6. Поликарпова ул.,д.2 корп.4 изм',\n",
    "'10. Поликарпова ул.,д.2, корп.7+ изм',\n",
    "'11. Поликарпова ул.,д.2, корп.10А+ изм',\n",
    "'12. Поликарпова ул.,д.2, корп.10+ исп',\n",
    "'15. Поликарпова ул.,д.2, корп.14+ изм',\n",
    "'27. Поликарпова ул.,д.2, корп.55+ изм']\n",
    "\n",
    "subset = [ './data/google/1_БТИ/' + x for x in subset]\n",
    "\n",
    "docs = {k:v for k,v in docs.items() if k in subset}\n"
   ]
  },
  {
   "cell_type": "code",
   "execution_count": 3,
   "metadata": {},
   "outputs": [],
   "source": [
    "from doc.parser import Parser"
   ]
  },
  {
   "cell_type": "code",
   "execution_count": 4,
   "metadata": {},
   "outputs": [],
   "source": [
    "p = Parser()"
   ]
  },
  {
   "cell_type": "code",
   "execution_count": 5,
   "metadata": {},
   "outputs": [
    {
     "data": {
      "text/plain": [
       "['./data/google/1_БТИ/10. Поликарпова ул.,д.2, корп.7+ изм_0_g_ocr.csv',\n",
       " './data/google/1_БТИ/10. Поликарпова ул.,д.2, корп.7+ изм_1_g_ocr.csv',\n",
       " './data/google/1_БТИ/10. Поликарпова ул.,д.2, корп.7+ изм_2_g_ocr.csv',\n",
       " './data/google/1_БТИ/10. Поликарпова ул.,д.2, корп.7+ изм_3_g_ocr.csv',\n",
       " './data/google/1_БТИ/10. Поликарпова ул.,д.2, корп.7+ изм_4_g_ocr.csv',\n",
       " './data/google/1_БТИ/10. Поликарпова ул.,д.2, корп.7+ изм_5_g_ocr.csv',\n",
       " './data/google/1_БТИ/10. Поликарпова ул.,д.2, корп.7+ изм_6_g_ocr.csv',\n",
       " './data/google/1_БТИ/10. Поликарпова ул.,д.2, корп.7+ изм_7_g_ocr.csv',\n",
       " './data/google/1_БТИ/10. Поликарпова ул.,д.2, корп.7+ изм_8_g_ocr.csv',\n",
       " './data/google/1_БТИ/10. Поликарпова ул.,д.2, корп.7+ изм_9_g_ocr.csv']"
      ]
     },
     "execution_count": 5,
     "metadata": {},
     "output_type": "execute_result"
    }
   ],
   "source": [
    "docs['./data/google/1_БТИ/10. Поликарпова ул.,д.2, корп.7+ изм']"
   ]
  },
  {
   "cell_type": "code",
   "execution_count": 6,
   "metadata": {},
   "outputs": [
    {
     "data": {
      "text/plain": [
       "({'Номер': (None, []),\n",
       "  'Дата': ('2009-01-21',\n",
       "   ['no ocr_id column',\n",
       "    'no ocr_id column',\n",
       "    'no ocr_id column',\n",
       "    'no ocr_id column',\n",
       "    'no ocr_id column',\n",
       "    'no ocr_id column',\n",
       "    'no ocr_id column',\n",
       "    'no ocr_id column',\n",
       "    'no ocr_id column',\n",
       "    'no ocr_id column',\n",
       "    'no ocr_id column']),\n",
       "  'Выдавший орган': (\"ФГУП 'РОСТЕХИНВЕНТАРИЗАЦИЯ - ФЕДЕРАЛЬНОЕ БТИ'\",\n",
       "   ['no ocr_id column',\n",
       "    'no ocr_id column',\n",
       "    'no ocr_id column',\n",
       "    'no ocr_id column',\n",
       "    'no ocr_id column']),\n",
       "  'Дата заполнения документа': ('2009-01-21',\n",
       "   ['no ocr_id column',\n",
       "    'no ocr_id column',\n",
       "    'no ocr_id column',\n",
       "    'no ocr_id column',\n",
       "    'no ocr_id column',\n",
       "    'no ocr_id column',\n",
       "    'no ocr_id column',\n",
       "    'no ocr_id column',\n",
       "    'no ocr_id column',\n",
       "    'no ocr_id column',\n",
       "    'no ocr_id column']),\n",
       "  'Наименование объекта': ('\"корпус лабораторий силовых установок и высотная лаборатория\"',\n",
       "   ['no ocr_id column',\n",
       "    'no ocr_id column',\n",
       "    'no ocr_id column',\n",
       "    'no ocr_id column',\n",
       "    'no ocr_id column',\n",
       "    'no ocr_id column',\n",
       "    'no ocr_id column',\n",
       "    'no ocr_id column',\n",
       "    'no ocr_id column']),\n",
       "  'Инвентарный номер': [],\n",
       "  'Год постройки': ('1961',\n",
       "   ['no ocr_id column',\n",
       "    'no ocr_id column',\n",
       "    'no ocr_id column',\n",
       "    'no ocr_id column',\n",
       "    'no ocr_id column',\n",
       "    'no ocr_id column',\n",
       "    'no ocr_id column']),\n",
       "  'Год ввода в эксплуатацию': ('1961',\n",
       "   ['no ocr_id column',\n",
       "    'no ocr_id column',\n",
       "    'no ocr_id column',\n",
       "    'no ocr_id column',\n",
       "    'no ocr_id column',\n",
       "    'no ocr_id column',\n",
       "    'no ocr_id column']),\n",
       "  'Кадастровый номер ЗУ': '77-09-05-008075',\n",
       "  'Кадастровый номер ОКС': []},\n",
       " {'Номер': [],\n",
       "  'Дата': [],\n",
       "  'Выдавший орган': [],\n",
       "  'Дата заполнения документа': [],\n",
       "  'Наименование объекта': [],\n",
       "  'Инвентарный номер': [],\n",
       "  'Год постройки': [],\n",
       "  'Год ввода в эксплуатацию': [],\n",
       "  'Кадастровый номер ЗУ': [],\n",
       "  'Кадастровый номер ОКС': []})"
      ]
     },
     "execution_count": 6,
     "metadata": {},
     "output_type": "execute_result"
    }
   ],
   "source": [
    "p.parse(docs['./data/google/1_БТИ/10. Поликарпова ул.,д.2, корп.7+ изм'], 1)"
   ]
  },
  {
   "cell_type": "code",
   "execution_count": null,
   "metadata": {},
   "outputs": [],
   "source": []
  }
 ],
 "metadata": {
  "kernelspec": {
   "display_name": "Python 3",
   "language": "python",
   "name": "python3"
  },
  "language_info": {
   "codemirror_mode": {
    "name": "ipython",
    "version": 3
   },
   "file_extension": ".py",
   "mimetype": "text/x-python",
   "name": "python",
   "nbconvert_exporter": "python",
   "pygments_lexer": "ipython3",
   "version": "3.6.5"
  }
 },
 "nbformat": 4,
 "nbformat_minor": 4
}

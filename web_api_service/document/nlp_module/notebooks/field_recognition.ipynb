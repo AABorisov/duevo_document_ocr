{
 "cells": [
  {
   "cell_type": "code",
   "execution_count": 4,
   "metadata": {},
   "outputs": [],
   "source": [
    "import os\n",
    "os.chdir('../')"
   ]
  },
  {
   "cell_type": "code",
   "execution_count": 23,
   "metadata": {},
   "outputs": [],
   "source": [
    "from glob import glob\n",
    "import pandas as pd\n",
    "\n",
    "docs = list(sorted(glob('./data/google/5_Свид. АГР/*')))\n",
    "\n"
   ]
  },
  {
   "cell_type": "code",
   "execution_count": 2,
   "metadata": {},
   "outputs": [],
   "source": [
    "def gather_docs(files):\n",
    "    import os\n",
    "    from collections import defaultdict\n",
    "\n",
    "    fnames = set()\n",
    "    for f in files:\n",
    "        fnames.add(os.path.dirname(f) + '/' + os.path.basename(f).split('_')[0])\n",
    "    docs = defaultdict(list)\n",
    "    for f in files:\n",
    "        f_name = os.path.dirname(f) + '/' + os.path.basename(f).split('_')[0]\n",
    "        docs[f_name].append(f)\n",
    "    return docs"
   ]
  },
  {
   "cell_type": "code",
   "execution_count": 26,
   "metadata": {},
   "outputs": [],
   "source": [
    "docs = gather_docs(docs)"
   ]
  },
  {
   "cell_type": "code",
   "execution_count": 5,
   "metadata": {},
   "outputs": [],
   "source": [
    "from doc.utils import make_rows"
   ]
  },
  {
   "cell_type": "code",
   "execution_count": 6,
   "metadata": {},
   "outputs": [],
   "source": [
    "labels = []\n",
    "for i in docs.keys():\n",
    "    labels += [i.split('/')[-2]]"
   ]
  },
  {
   "cell_type": "code",
   "execution_count": 7,
   "metadata": {},
   "outputs": [],
   "source": [
    "import tensorflow_hub as hub\n",
    "import numpy as np\n",
    "import tensorflow_text\n",
    "from collections import defaultdict\n",
    "\n",
    "\n",
    "\n",
    "UNIVERSAL_ENCODER = hub.load(\"https://tfhub.dev/google/universal-sentence-encoder-multilingual/3\")\n",
    "\n"
   ]
  },
  {
   "cell_type": "code",
   "execution_count": null,
   "metadata": {},
   "outputs": [],
   "source": [
    "make_rows(pd.read_csv(csv))"
   ]
  },
  {
   "cell_type": "code",
   "execution_count": 33,
   "metadata": {},
   "outputs": [],
   "source": [
    "from tqdm import tqdm"
   ]
  },
  {
   "cell_type": "markdown",
   "metadata": {},
   "source": [
    "я устал, но дальше надо снова сделать не док в строку, а док в строки и для каждой посчитать фичи и попробовать находить ближайшие для каждого дока"
   ]
  },
  {
   "cell_type": "code",
   "execution_count": 36,
   "metadata": {},
   "outputs": [
    {
     "name": "stderr",
     "output_type": "stream",
     "text": [
      "100%|██████████| 70/70 [00:05<00:00, 13.91it/s]\n"
     ]
    }
   ],
   "source": [
    "data = {}\n",
    "features = {}\n",
    "for d, f in tqdm(docs.items()):\n",
    "    doc_rows = []\n",
    "    for csv in f:\n",
    "        try:\n",
    "            _, file_rows = make_rows(pd.read_csv(csv))\n",
    "        except:\n",
    "            file_rows = ''\n",
    "        doc_rows += file_rows\n",
    "            \n",
    "    data[d] = doc_rows\n",
    "    features[d] = UNIVERSAL_ENCODER(doc_rows).numpy()"
   ]
  },
  {
   "cell_type": "code",
   "execution_count": 82,
   "metadata": {},
   "outputs": [],
   "source": [
    "import re"
   ]
  },
  {
   "cell_type": "code",
   "execution_count": 90,
   "metadata": {},
   "outputs": [
    {
     "data": {
      "text/plain": [
       "'Регистрационный No: 23/6-5-03'"
      ]
     },
     "execution_count": 90,
     "metadata": {},
     "output_type": "execute_result"
    }
   ],
   "source": [
    "i"
   ]
  },
  {
   "cell_type": "code",
   "execution_count": 109,
   "metadata": {},
   "outputs": [
    {
     "data": {
      "text/plain": [
       "'  23/6-5-03'"
      ]
     },
     "execution_count": 109,
     "metadata": {},
     "output_type": "execute_result"
    }
   ],
   "source": [
    "re.sub('[^0-9 \\- \\/  \"\\']+', '', i)"
   ]
  },
  {
   "cell_type": "code",
   "execution_count": 69,
   "metadata": {},
   "outputs": [
    {
     "name": "stdout",
     "output_type": "stream",
     "text": [
      "./data/google/5_Свид. АГР/10   >>>   ['Регистрационный No: 224-5-98', 'Регистрационный No: 221-5-118', 'дата: 22.02.99 No: 8 пункт: 56']\n",
      "./data/google/5_Свид. АГР/11   >>>   ['Регистрационный No: 20-52-4/03 вы', 'дата: 10.02.03 No: пункт: 48', 'Район: Куркино']\n",
      "./data/google/5_Свид. АГР/12   >>>   ['Регистрационный No: 18-1/4-02', 'Регистрационный N: 18-1/4-02', 'дата: 21.06.02 No: 18 пункт: 70']\n",
      "./data/google/5_Свид. АГР/13   >>>   ['Регистрационный No: 297-59-12', 'дата: 09.12.02 No: 35 пункт: 54', 'Район: Зюзино']\n",
      "./data/google/5_Свид. АГР/14   >>>   ['дата: 09.12.02 No: 35 пункт: 55', 'Регистрационный No: 84-5-04 K B', 'Владение: 75/1 Корпус: Строение:']\n"
     ]
    }
   ],
   "source": [
    "for d, v in features.items():\n",
    "    ix = np.inner(b_f, v).argsort()[0, -3:][::-1]\n",
    "    fields = [data[d][x] for x in ix]\n",
    "    print(d, '  >>>  ', fields)\n",
    "    if d =='./data/google/5_Свид. АГР/14':\n",
    "        break"
   ]
  },
  {
   "cell_type": "code",
   "execution_count": 78,
   "metadata": {},
   "outputs": [
    {
     "data": {
      "text/plain": [
       "'Регистрационный No: 23/6-5-03'"
      ]
     },
     "execution_count": 78,
     "metadata": {},
     "output_type": "execute_result"
    }
   ],
   "source": [
    "import re\n",
    "value_regex = re.compile(\"(?<=Value=)(?P<value>.*?)(?=&)\")\n",
    "match = value_regex.search(strJunk)\n",
    "match.group('value')\n",
    "value_regex.sub(\"six\", strJunk)"
   ]
  },
  {
   "cell_type": "code",
   "execution_count": 110,
   "metadata": {},
   "outputs": [
    {
     "name": "stdout",
     "output_type": "stream",
     "text": [
      "221-5-118\n",
      "20-52-4/03\n",
      "18-1/4-02\n",
      "297-59-12\n",
      "84-5-04\n",
      "418-4-17\n",
      "172-8/4-02\n",
      "228-3-19\n",
      "216-55-01\n",
      "1/94-54-03\n",
      "80-3/3-02\n",
      "46-5-9\n",
      "313-4-816\n",
      "ЗМ-24-02\n",
      "215-5-00\n",
      "227-14-02\n",
      "145-13-02\n",
      "3/9-15-2\n",
      "158-47-0\n",
      "73-4/8-02\n",
      "150-55-42\n",
      "1/29-14-03\n",
      "365-4-102\n",
      "3/17-52-01\n",
      "284-14-503\n",
      "206-M-01\n",
      "314-35-01\n",
      "51-34-01\n",
      "349-4-201\n",
      "27/1-5-02\n",
      "253-1-118\n",
      "-4-0\n",
      "77/1-54-03\n",
      "33/1-4-73\n",
      "103-5-918\n",
      "17-4/1-07\n",
      "199-42-2\n",
      "33-5-199\n",
      "18-9/8-02\n",
      "37-14-02\n",
      "1/47-4-03\n",
      "1006-99-\n",
      "65/1-6-03\n",
      "27-4/7-02\n",
      "44-14-42\n",
      "125-3-502\n",
      "31-565-01\n",
      "20/2-3-43\n",
      "75-8/3-06\n",
      "2010-4-08\n",
      "241-5-10\n",
      "22-51-010\n",
      "187-15-01\n",
      "15-41-0\n",
      "168-36-01\n",
      "239-56-01\n",
      "2/97-14-073\n",
      "109-4-010\n",
      "27-51-02/M\n",
      "58-5-99\n",
      "23/6-5-03\n"
     ]
    }
   ],
   "source": [
    "for d, v in data.items():\n",
    "    for i in v:\n",
    "        if 'регистрацион' in i.lower():\n",
    "            i = i.split(' ')\n",
    "            for p in i:\n",
    "                if p.count('-') == 2:\n",
    "                    print(p)\n",
    "            break"
   ]
  },
  {
   "cell_type": "code",
   "execution_count": null,
   "metadata": {},
   "outputs": [],
   "source": [
    "ix"
   ]
  },
  {
   "cell_type": "code",
   "execution_count": null,
   "metadata": {},
   "outputs": [],
   "source": [
    "np.inner(b_f, v)"
   ]
  },
  {
   "cell_type": "code",
   "execution_count": 53,
   "metadata": {},
   "outputs": [],
   "source": [
    "b_f = UNIVERSAL_ENCODER([baseline]).numpy()"
   ]
  },
  {
   "cell_type": "code",
   "execution_count": 45,
   "metadata": {},
   "outputs": [
    {
     "data": {
      "text/plain": [
       "35"
      ]
     },
     "execution_count": 45,
     "metadata": {},
     "output_type": "execute_result"
    }
   ],
   "source": [
    "np.inner(b_f, features[d]).argmax()"
   ]
  },
  {
   "cell_type": "code",
   "execution_count": 46,
   "metadata": {},
   "outputs": [
    {
     "data": {
      "text/plain": [
       "'Регистрационный No: 23/6-5-03'"
      ]
     },
     "execution_count": 46,
     "metadata": {},
     "output_type": "execute_result"
    }
   ],
   "source": [
    "data[d][35]"
   ]
  },
  {
   "cell_type": "code",
   "execution_count": 37,
   "metadata": {},
   "outputs": [
    {
     "data": {
      "text/plain": [
       "['ВЫПИСКА И З ПРОТОКОЛА Регламента рассмотрения проектных решений',\n",
       " 'Главным архитектором г. Москвы',\n",
       " 'дата: 16.10.00 No: 28 пункт: 56',\n",
       " 'Наименование объекта: ТЭО (проект) строительства',\n",
       " 'производственно-технической базы',\n",
       " 'Авторы проекта: Алмазов СВ., Романюк Т.Р',\n",
       " 'Генеральная проектная 000 \"Овес-Промпроект\"',\n",
       " 'организация:',\n",
       " 'Застройщик: ОАО \"Спецпроект\"',\n",
       " 'Рассмотрение на рабочей комиссии',\n",
       " 'Референт: Попов В.П.',\n",
       " 'Докладчик:',\n",
       " 'Выступили:',\n",
       " 'ПОСТАНОВИЛИ:',\n",
       " '|1.Одобрить представленные архитектурно-планировочные решения.',\n",
       " 'Председатель архитектурного Кутемин А.В.',\n",
       " 'совета:',\n",
       " 'Ученый секретарь',\n",
       " 'архитектурного совета:',\n",
       " '\"ВЫПИСКА ИЗ ПРОТОКОЛА ВЕРНА\" ЕЛЬСТВО MOC',\n",
       " 'Начальник Управления Архитектурного совета: Ручной С.П.',\n",
       " 'Начальник Управления подготовки Темных А.И.',\n",
       " 'согласования проектов:',\n",
       " 'Руководитель авторов проекта: Алмазов С.В.',\n",
       " 'ПРИЛОЖЕНИЯ: Материалы проектного решения (формата А4, без масштаба):',\n",
       " 'ситуационный план, генплан, планы этажей, разрезы, фасады',\n",
       " 'с цветовым решением.',\n",
       " 'Верно:',\n",
       " 'ПРАВИТЕЛЬСТВО москвы',\n",
       " 'КОМИТЕТ П АРХИТЕКТУРЕ И ГРАДОСТРОИТЕЛЬСТВУ Г.МОСКВЫ',\n",
       " '125047, Москва, Триумфальная площадь, 1 PAROCTPO тел.250-55-20 Ne',\n",
       " '09',\n",
       " 'Код объекта недвижимости: Главный архитектор города',\n",
       " 'Код строительного объекта: 228/11-М3-1969',\n",
       " 'А.В. Кутемин',\n",
       " 'Регистрационный No: 23/6-5-03',\n",
       " 'СВИДЕТЕЛЬСТВО ОБ УТВЕРЖДЕНИИ PE B THO',\n",
       " 'АРХИТЕКТУРНО-ГРАДОСТРОИТЕЛЬНОГО РЕШЕНИЯ',\n",
       " 'АДРЕС ОБЪЕКТА: Город: Москва',\n",
       " 'Административный округ Северо-Западный',\n",
       " 'Район: Хорошево-Мневники',\n",
       " 'Адрес: Силикатный 3-й проезд',\n",
       " 'Владение: 25 Корпус: Строение:',\n",
       " 'Наименование объекта: ТэО (проект) строительства',\n",
       " 'производственно-технической базы',\n",
       " 'Функциональное Административно-бытовой корпус',\n",
       " 'назначение объекта: с мойкой большегрузных автомашин',\n",
       " 'ОАО \"Спецпроект\"',\n",
       " 'Заказчик:',\n",
       " 'Застройщик: ОАО \"Спецпроект\"',\n",
       " 'Разрешение на проектирование: Решение комиссии по вопросам имущественно-земельных',\n",
       " 'отношений и градостроительству СЗАО г. Москвы.',\n",
       " 'Протокол N°23-9от 07.03.98г.',\n",
       " 'АВТОРСКИЙ КкОЛЛЕКТИВ',\n",
       " 'Руководитель авторов Алмазов СВ.',\n",
       " 'проекта',\n",
       " 'Авторы проекта: Алмазов Св., Романюк Т.Р',\n",
       " 'Проектная организация: ООО \"Овес-Промпроект\"',\n",
       " 'СОГЛАСОВАННЫЕ ТЕХНИКО-ЭКОНОМИЧЕСКИЕ ПОКАЗАТЕЛИ пО ОБЪЕКТУ',\n",
       " 'застройки(м?): Площадь 352.4 Объем (м): 5 856.6 Этажность: отметка Верхняя объекта 18.00',\n",
       " '(max) (м):',\n",
       " 'Общая площадь (м*): 2 390.0 наземная В том Чите: (м*): 2 390.0 подземная (м?):']"
      ]
     },
     "execution_count": 37,
     "metadata": {},
     "output_type": "execute_result"
    }
   ],
   "source": [
    "data[d]"
   ]
  },
  {
   "cell_type": "code",
   "execution_count": 52,
   "metadata": {},
   "outputs": [],
   "source": [
    "baseline = 'Регистрационный No: 23/'"
   ]
  }
 ],
 "metadata": {
  "kernelspec": {
   "display_name": "Python 3",
   "language": "python",
   "name": "python3"
  },
  "language_info": {
   "codemirror_mode": {
    "name": "ipython",
    "version": 3
   },
   "file_extension": ".py",
   "mimetype": "text/x-python",
   "name": "python",
   "nbconvert_exporter": "python",
   "pygments_lexer": "ipython3",
   "version": "3.6.5"
  }
 },
 "nbformat": 4,
 "nbformat_minor": 4
}
